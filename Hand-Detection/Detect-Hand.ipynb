{
 "cells": [
  {
   "cell_type": "code",
   "execution_count": 1,
   "id": "9411f335-1226-4bb6-98f0-3064004d6b59",
   "metadata": {},
   "outputs": [],
   "source": [
    "import cv2\n",
    "import mediapipe as mp \n",
    "from google.protobuf.json_format import MessageToDict"
   ]
  },
  {
   "cell_type": "code",
   "execution_count": 2,
   "id": "fb91f6ab-c14d-47a5-8727-9541c27afc86",
   "metadata": {},
   "outputs": [],
   "source": [
    "# initializing the model\n",
    "mpHands = mp.solutions.hands\n",
    "hands = mpHands.Hands(\n",
    "    static_image_mode = False,\n",
    "    model_complexity = 1,\n",
    "    min_detection_confidence = 0.75,\n",
    "    min_tracking_confidence = 0.75,\n",
    "    max_num_hands =2)"
   ]
  },
  {
   "cell_type": "code",
   "execution_count": 3,
   "id": "3cf47196-d412-4b1c-bb48-a2ba977042cf",
   "metadata": {},
   "outputs": [
    {
     "name": "stderr",
     "output_type": "stream",
     "text": [
      "C:\\Users\\HP\\AppData\\Local\\Programs\\Python\\Python310\\lib\\site-packages\\google\\protobuf\\symbol_database.py:55: UserWarning: SymbolDatabase.GetPrototype() is deprecated. Please use message_factory.GetMessageClass() instead. SymbolDatabase.GetPrototype() will be removed soon.\n",
      "  warnings.warn('SymbolDatabase.GetPrototype() is deprecated. Please '\n"
     ]
    }
   ],
   "source": [
    "# Start capturing video from webcam \n",
    "\n",
    "capture = cv2.VideoCapture(0)\n",
    "\n",
    "while True:\n",
    "\n",
    "    # read video frame by frame\n",
    "    success, img = capture.read()\n",
    "\n",
    "    # flip image (frame)\n",
    "    img =cv2.flip(img, 1)\n",
    "\n",
    "    # Convert BGR image to RGB image \n",
    "    imgRGB = cv2.cvtColor(img, cv2.COLOR_BGR2RGB)\n",
    "\n",
    "    # Process the RGB image\n",
    "    results = hands.process(imgRGB)\n",
    "\n",
    "    # If hands are present in image(frame) \n",
    "    if results.multi_hand_landmarks:\n",
    "\n",
    "        # Both Hands are present in image(frame) \n",
    "        if len(results.multi_handedness)  == 2:\n",
    "             \n",
    "            # Display 'Both Hands' on the image \n",
    "            cv2.putText(img, 'Both Image', (250,50),cv2.FONT_HERSHEY_COMPLEX, 0.9,(0, 255, 0), 2)\n",
    "        \n",
    "        #if only one hand is present\n",
    "        else:\n",
    "           for i in results.multi_handedness:\n",
    "                # Convert the proto message to a dictionary\n",
    "                handedness_dict = MessageToDict(i)\n",
    "    \n",
    "                # Extract the label\n",
    "                label = handedness_dict['classification'][0]['label']\n",
    "    \n",
    "                if label == 'Left':\n",
    "                    # Display 'Left Hand' on the left side of the window\n",
    "                    cv2.putText(img, label + ' Hand', (20, 50), cv2.FONT_HERSHEY_COMPLEX, 0.9, (0, 255, 0), 2)\n",
    "                else:\n",
    "                    # Display 'Right Hand' on the right side of the window (assuming this is what you want for the right hand)\n",
    "                    cv2.putText(img, label + ' Hand', (20, 50), cv2.FONT_HERSHEY_COMPLEX, 0.9, (0, 255, 0), 2)\n",
    "            \n",
    "    cv2.imshow('Image', img)\n",
    "    if  cv2.waitKey(1) & 0xff ==ord('q'):\n",
    "        break;\n",
    "     "
   ]
  },
  {
   "cell_type": "code",
   "execution_count": null,
   "id": "a2b93a10-36d3-4aa0-ae1d-e1f561922f86",
   "metadata": {},
   "outputs": [],
   "source": []
  }
 ],
 "metadata": {
  "kernelspec": {
   "display_name": "Python 3 (ipykernel)",
   "language": "python",
   "name": "python3"
  },
  "language_info": {
   "codemirror_mode": {
    "name": "ipython",
    "version": 3
   },
   "file_extension": ".py",
   "mimetype": "text/x-python",
   "name": "python",
   "nbconvert_exporter": "python",
   "pygments_lexer": "ipython3",
   "version": "3.10.5"
  }
 },
 "nbformat": 4,
 "nbformat_minor": 5
}
